{
 "cells": [
  {
   "cell_type": "markdown",
   "metadata": {},
   "source": [
    "# 2019/02/06 Notes\n",
    "\n"
   ]
  },
  {
   "cell_type": "markdown",
   "metadata": {},
   "source": [
    "## Decision tree vs. regression\n",
    "- decision tree --> classificaiton\n",
    "    - learn a tree model instead of the decision model: splits\n",
    "- regression --> forecast\n"
   ]
  },
  {
   "cell_type": "markdown",
   "metadata": {},
   "source": [
    "### All data-mining learns a model\n",
    "--- <span style=\"font-weight: bold;\">classification learns decision tree model</span>"
   ]
  },
  {
   "cell_type": "markdown",
   "metadata": {},
   "source": [
    "### How much should we split the tree?\n",
    "1. <span style=\"font-weight: bold;\">Minimum entropy </span> -- until the classifications are toally homogeneous, or that further classification does not yield any benefits\n",
    "2. If there are <span style=\"font-weight: bold;\">too little data </span>for each classification, or that there are <span style=\"font-weight: bold;\">too many levels of classification </span> that the classifications are meaningless "
   ]
  },
  {
   "cell_type": "markdown",
   "metadata": {},
   "source": [
    "### Decision tree pros & cons\n",
    "- pros: <span style=\"font-weight:bold;\">describable</span> -- easy for anyone to understand\n",
    "- cons: <span style=\"font-weight:bold;\">slow</span> -- too many \"splits\" and the model doesn't know how to identify what classifications are good in theroy"
   ]
  },
  {
   "cell_type": "markdown",
   "metadata": {},
   "source": [
    "# "
   ]
  },
  {
   "cell_type": "markdown",
   "metadata": {},
   "source": [
    "# "
   ]
  },
  {
   "cell_type": "markdown",
   "metadata": {},
   "source": [
    "# "
   ]
  },
  {
   "cell_type": "markdown",
   "metadata": {},
   "source": [
    "# "
   ]
  },
  {
   "cell_type": "markdown",
   "metadata": {},
   "source": [
    "# "
   ]
  },
  {
   "cell_type": "markdown",
   "metadata": {},
   "source": [
    "# "
   ]
  },
  {
   "cell_type": "markdown",
   "metadata": {},
   "source": [
    "# "
   ]
  }
 ],
 "metadata": {
  "kernelspec": {
   "display_name": "Python 3",
   "language": "python",
   "name": "python3"
  },
  "language_info": {
   "codemirror_mode": {
    "name": "ipython",
    "version": 3
   },
   "file_extension": ".py",
   "mimetype": "text/x-python",
   "name": "python",
   "nbconvert_exporter": "python",
   "pygments_lexer": "ipython3",
   "version": "3.7.1"
  }
 },
 "nbformat": 4,
 "nbformat_minor": 2
}
