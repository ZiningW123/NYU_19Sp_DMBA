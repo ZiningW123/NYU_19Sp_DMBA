{
 "cells": [
  {
   "cell_type": "markdown",
   "metadata": {},
   "source": [
    "#### Create a simple list with 5 items. \n",
    "\n",
    "Write the items BY HAND. Do _not_ use a random number generator.\n"
   ]
  },
  {
   "cell_type": "code",
   "execution_count": null,
   "metadata": {},
   "outputs": [],
   "source": [
    "# Your code here\n"
   ]
  },
  {
   "cell_type": "markdown",
   "metadata": {},
   "source": [
    "#### Print your list"
   ]
  },
  {
   "cell_type": "code",
   "execution_count": null,
   "metadata": {},
   "outputs": [],
   "source": [
    "# Your code here\n"
   ]
  },
  {
   "cell_type": "markdown",
   "metadata": {},
   "source": [
    "#### Print the 3rd item from your list.  Use the list variable and the index position to do that.\n",
    "\n",
    "Hint: Check the brackets notation: http://www.openbookproject.net/books/bpp4awd/ch03.html\n",
    "\n",
    "Remember that in Python indexing starts at position 0, i.e., the 1st item is at index 0, the 2nd item is at index 1, etc"
   ]
  },
  {
   "cell_type": "code",
   "execution_count": null,
   "metadata": {},
   "outputs": [],
   "source": [
    "# Your code here\n"
   ]
  },
  {
   "cell_type": "markdown",
   "metadata": {},
   "source": [
    "#### Select the 3rd and 4th elements from your list and print them. The result that you'll print must also be a list.\n",
    "\n",
    "_Hint_: Check the brackets notation: http://www.openbookproject.net/books/bpp4awd/ch03.html\n",
    "\n",
    "Pay attention to the indexing."
   ]
  },
  {
   "cell_type": "code",
   "execution_count": null,
   "metadata": {},
   "outputs": [],
   "source": [
    "# Your code here\n"
   ]
  },
  {
   "cell_type": "markdown",
   "metadata": {},
   "source": [
    "#### Using Python's built-in `min` and `max` methods, print the minimum and maximum elements of your list on the same line."
   ]
  },
  {
   "cell_type": "code",
   "execution_count": null,
   "metadata": {},
   "outputs": [],
   "source": [
    "# Your code here\n"
   ]
  },
  {
   "cell_type": "markdown",
   "metadata": {},
   "source": [
    "#### Pick a number. Assign it to a variable `x` below."
   ]
  },
  {
   "cell_type": "code",
   "execution_count": null,
   "metadata": {},
   "outputs": [],
   "source": [
    "# Your code here\n"
   ]
  },
  {
   "cell_type": "markdown",
   "metadata": {},
   "source": [
    "#### Using the `x` variable above, print one message if the variable is a multiple of 3, or another message if it is not.\n",
    "\n",
    "In particular, use an `if`-statement to check if the `x` variable is a multiple of 3, i.e. 3, 6, 9, 12, etc.<br/>\n",
    "_Hint_: Use the modulo operator. More info: https://stackoverflow.com/questions/4432208/what-is-the-result-of-in-python\n",
    "\n",
    "If `x` is such a number, print the string message `\"3 * k = \"` , followed by the number you picked. You _must_ use the `x` variable as part of your print statement. Do _not_ change the value by hand each time.\n",
    "\n",
    "If `x` is not such a number, print the string message `\"Not a multiple of 3\"`.\n",
    "\n",
    "- Once you've written your code, repeat the same process for numerous values of x to see that your code is doing what it should. Do not copy/paste your code below, just pick different values and rerun the cells."
   ]
  },
  {
   "cell_type": "code",
   "execution_count": null,
   "metadata": {},
   "outputs": [],
   "source": [
    "# Your code here\n"
   ]
  },
  {
   "cell_type": "markdown",
   "metadata": {},
   "source": [
    "#### Use a `for`-loop and print each of the elements in your original list (the one you wrote from the very beginning). Each element must be printed on each own line."
   ]
  },
  {
   "cell_type": "code",
   "execution_count": null,
   "metadata": {},
   "outputs": [],
   "source": [
    "# Your code here\n"
   ]
  },
  {
   "cell_type": "markdown",
   "metadata": {},
   "source": [
    "#### Using a list of indexes (see code block), print the elements in your original list in the order specified by the indexes.\n",
    "\n",
    "**Example.** Consider a simple list: [1, 5, 10] and a list of indexes [2, 0, 1]. You should print the list elements in the following order:\n",
    "* The element at index 2\n",
    "* The element at index 0\n",
    "* The element at index 1\n",
    "\n",
    "The printed output will look like this, in our example above: <br/>\n",
    "10 <br/>\n",
    "1 <br/>\n",
    "5\n",
    "\n",
    "_Hint:_ You will need to use a `for`-loop. Use the index from the list of indexes to reference elements from your original list.\n"
   ]
  },
  {
   "cell_type": "code",
   "execution_count": null,
   "metadata": {},
   "outputs": [],
   "source": [
    "# list of indexes\n",
    "indexes = [3, 0, 2, 1, 4]\n",
    "\n",
    "# Your code below this line\n"
   ]
  },
  {
   "cell_type": "markdown",
   "metadata": {},
   "source": [
    "#### Print the integers between 1 and (including) 10. Use a `for`-loop statement.\n",
    "\n",
    "You should use built-in python functions here to create that range of value for you. Do _not_ use your own list."
   ]
  },
  {
   "cell_type": "code",
   "execution_count": null,
   "metadata": {},
   "outputs": [],
   "source": [
    "# Your code here\n"
   ]
  },
  {
   "cell_type": "markdown",
   "metadata": {},
   "source": [
    "#### For each integer between 1 and (including) 10, print the integer accompanied by its square on the same line. Use a `for` loop.\n",
    "\n",
    "Your output should look something like this:\n",
    "\n",
    "1,1 <br/>\n",
    "2,4 <br/>\n",
    "3,9 <br/>\n",
    "\n",
    "You can add more information in your print statements, if you want."
   ]
  },
  {
   "cell_type": "code",
   "execution_count": null,
   "metadata": {},
   "outputs": [],
   "source": [
    "# Your code here\n"
   ]
  },
  {
   "cell_type": "markdown",
   "metadata": {},
   "source": [
    "#### For each integer between 1 and (including) 10, print the integer accompanied by its square root. Use a `for` loop.\n",
    "\n",
    "To compute the square root of a number check the `math` python module and in particular the `math.sqrt()` method. Documentation of the module and its functions: https://docs.python.org/3/library/math.html"
   ]
  },
  {
   "cell_type": "code",
   "execution_count": null,
   "metadata": {},
   "outputs": [],
   "source": [
    "# Your code here\n"
   ]
  },
  {
   "cell_type": "markdown",
   "metadata": {},
   "source": [
    "#### Print the even integers between 1 and (including) 10. Use a for-loop statement and combine it with an if statement, inside the for-loop.\n",
    "\n",
    "Your code should look something like this:\n",
    "\n",
    "`\n",
    "for .... in ..... :\n",
    "    if ... :\n",
    "        print( ... )\n",
    "`\n",
    "\n",
    "Instead of dots, you should be using the proper values."
   ]
  },
  {
   "cell_type": "code",
   "execution_count": null,
   "metadata": {},
   "outputs": [],
   "source": [
    "# Your code here\n"
   ]
  },
  {
   "cell_type": "markdown",
   "metadata": {},
   "source": [
    "#### Redo the previous exercise but use a different approach. Use a simple `for`-loop, without an `if`-statement.\n",
    "\n",
    "_Hint_: If you are currently at an even number, you can get the next one by adding +2 to the current one.\n",
    "\n",
    "_Hint_: You have already used a method that generates sequential integers. Check what other arguments the method accepts."
   ]
  },
  {
   "cell_type": "code",
   "execution_count": null,
   "metadata": {},
   "outputs": [],
   "source": [
    "# Your code here\n"
   ]
  },
  {
   "cell_type": "markdown",
   "metadata": {},
   "source": [
    "#### Redo the even numbers exercise. Instead of printing each of those numbers in its own line, add them to a list. Print that list at the end of your for loop. Use whichever of the two previous approaches you prefer.\n",
    "\n",
    "Initialize an empty list _before_ the `for`-loop. Print the list just once _after_ the end of the `for`-loop."
   ]
  },
  {
   "cell_type": "code",
   "execution_count": null,
   "metadata": {},
   "outputs": [],
   "source": [
    "# Your code here\n"
   ]
  },
  {
   "cell_type": "markdown",
   "metadata": {},
   "source": [
    "#### Write a method that accepts two (2) parameters and returns their product. Then use the method that you wrote, to test that it works properly.\n",
    "\n",
    "**Testing:** Pass 3 different combinations (pairs) of numbers as parameters to the function. You can also try negative numbers to test your method!\n",
    "\n",
    "**Note:** The method that you'll write must `return` the product, _not_ print it."
   ]
  },
  {
   "cell_type": "code",
   "execution_count": null,
   "metadata": {},
   "outputs": [],
   "source": [
    "# Write the code for your method here\n",
    "\n",
    "\n",
    "# Test your method below this line\n"
   ]
  },
  {
   "cell_type": "markdown",
   "metadata": {},
   "source": [
    "#### Write a method that accepts a number as a parameter and returns its square value. Use your previous method to generate the result that you need.\n",
    "\n",
    "**Note:** You only need to define the _new_ method, the one that accepts a _single_ number as a parameter. Any methods that you wrote above are already defined and you can / should simply use them.\n",
    "\n",
    "**Important:** The method that you'll write must `return` the square of the given number, _not_ print it."
   ]
  },
  {
   "cell_type": "code",
   "execution_count": null,
   "metadata": {},
   "outputs": [],
   "source": [
    "# Write the code for your method here\n",
    "\n",
    "\n",
    "# Test your method below this line\n",
    "\n"
   ]
  },
  {
   "cell_type": "markdown",
   "metadata": {},
   "source": [
    "#### Using the method that you implemented above, redo the following exercise: for each of the first 10 integers between 1 and (including) 10, print the integer accompanied by its square on the same line.\n"
   ]
  },
  {
   "cell_type": "code",
   "execution_count": null,
   "metadata": {},
   "outputs": [],
   "source": [
    "# Your code here\n"
   ]
  },
  {
   "cell_type": "markdown",
   "metadata": {},
   "source": [
    "#### Write a method that accepts two (2) parameters and returns two (2) values: the _quotient_ and the _remainder_ of dividing the first parameter with the second.\n",
    "\n",
    "_Examples_\n",
    "\n",
    "**Input:** (5, 2)   **Output:** (2, 1)\n",
    "\n",
    "**Input:** (6, 3)   **Output:** (2, 0)\n",
    "\n",
    "**Input:** (17, 5)   **Output:** (3, 2)\n",
    "\n",
    "The parentheses in the output are decorative; do not focus on whether they appear in the input / output or not."
   ]
  },
  {
   "cell_type": "code",
   "execution_count": null,
   "metadata": {},
   "outputs": [],
   "source": [
    "# Your code here\n"
   ]
  },
  {
   "cell_type": "markdown",
   "metadata": {},
   "source": [
    "#### Use the method that you created above, which returns the quotient and the remainder. Pass any two values that you want and get the result. Compute the sum of the returned values and print it.\n",
    "\n",
    "Do _not_ modify the method above. _Only_ use it.\n",
    "\n",
    "_Examples_\n",
    "\n",
    "**Input:** (5,2) **Printed result:** 3\n",
    "\n",
    "**Input:** (6,3) **Printed result:** 2\n",
    "\n",
    "**Input:** (17,5) **Printed result:** 5"
   ]
  },
  {
   "cell_type": "code",
   "execution_count": null,
   "metadata": {},
   "outputs": [],
   "source": [
    "# Your code here\n"
   ]
  },
  {
   "cell_type": "markdown",
   "metadata": {},
   "source": [
    "#### For each integer between 1 through 10 (included), compute and print on the same line the following:\n",
    "* The integer itself\n",
    "* The square of the integer\n",
    "* The square root of the integer\n",
    "* The sum of the quotient and the remainder of the division between the integer and its square root.\n",
    "* The value $quotient^{remainder}$, where quotient and remainder are the results of the division between the integer and its square root.\n",
    "\n",
    "For the last part you should look at Python's `math` module and the `math.pow()` method in particular.\n",
    "Documentation of the module and its functions: https://docs.python.org/3/library/math.html"
   ]
  },
  {
   "cell_type": "code",
   "execution_count": null,
   "metadata": {},
   "outputs": [],
   "source": [
    "# Your code here\n"
   ]
  },
  {
   "cell_type": "markdown",
   "metadata": {},
   "source": [
    "#### [Tricky] Revisit the above problem. Instead of printing, store that information in a list. For each integer, you will have a _separate_ list that contains the computed values for the integer.  Store the integers' lists in an external list (outside the `for`-loop), that is different from the ones that you create for each integer.\n",
    "\n",
    "The end result must be an external list with 10 elements, one for each integer of your loop. _Each_ element of that external list is _itself_ a list, containing the 5 values mentioned in the previous example.\n",
    "\n",
    "This bit combines a lot of the things that you used already. Make sure you understand what each of the above things are doing before you jumpr right into this one.\n"
   ]
  },
  {
   "cell_type": "code",
   "execution_count": null,
   "metadata": {},
   "outputs": [],
   "source": [
    "# Your code here\n"
   ]
  },
  {
   "cell_type": "markdown",
   "metadata": {},
   "source": [
    "#### Create your first DataFrame. Using the external list that you generated above, create your first data frame.\n",
    "\n",
    "You will need to import the Pandas library (info: https://pandas.pydata.org/pandas-docs/stable/), unless you've done that already, as shown below:\n",
    "\n",
    "`import pandas as pd`\n",
    "\n",
    "You can then create a new dataframe using the code:\n",
    "\n",
    "`pd.DataFrame(....)`\n",
    "\n",
    "The result of that method call is a dataframe which we can then manipulate. One of the parameters that we can pass to that method is the _data_ that we would like our dataframe to hold.\n",
    "\n",
    "The _data_ we want to pass here is the _external_ list that we had in our previous work."
   ]
  },
  {
   "cell_type": "code",
   "execution_count": null,
   "metadata": {},
   "outputs": [],
   "source": [
    "# Your code here\n"
   ]
  },
  {
   "cell_type": "code",
   "execution_count": null,
   "metadata": {},
   "outputs": [],
   "source": []
  }
 ],
 "metadata": {
  "kernelspec": {
   "display_name": "Python 3",
   "language": "python",
   "name": "python3"
  },
  "language_info": {
   "codemirror_mode": {
    "name": "ipython",
    "version": 3
   },
   "file_extension": ".py",
   "mimetype": "text/x-python",
   "name": "python",
   "nbconvert_exporter": "python",
   "pygments_lexer": "ipython3",
   "version": "3.5.2"
  }
 },
 "nbformat": 4,
 "nbformat_minor": 2
}
