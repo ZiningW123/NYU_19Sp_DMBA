{
 "cells": [
  {
   "cell_type": "code",
   "execution_count": 1,
   "metadata": {},
   "outputs": [],
   "source": [
    "import pandas as pd\n",
    "import numpy as np\n",
    "\n",
    "import seaborn as sns\n",
    "import matplotlib.pyplot as plt\n",
    "\n",
    "from sklearn.linear_model import LogisticRegression\n",
    "\n",
    "from sklearn.model_selection import cross_val_score\n",
    "\n",
    "%matplotlib inline\n",
    "# sns.set(style='ticks', palette='Set2')\n",
    "plt.rcParams['figure.figsize'] = 15, 12\n",
    "\n",
    "import warnings\n",
    "warnings.filterwarnings('ignore')\n"
   ]
  },
  {
   "cell_type": "code",
   "execution_count": 2,
   "metadata": {},
   "outputs": [
    {
     "data": {
      "text/html": [
       "<div>\n",
       "<style scoped>\n",
       "    .dataframe tbody tr th:only-of-type {\n",
       "        vertical-align: middle;\n",
       "    }\n",
       "\n",
       "    .dataframe tbody tr th {\n",
       "        vertical-align: top;\n",
       "    }\n",
       "\n",
       "    .dataframe thead th {\n",
       "        text-align: right;\n",
       "    }\n",
       "</style>\n",
       "<table border=\"1\" class=\"dataframe\">\n",
       "  <thead>\n",
       "    <tr style=\"text-align: right;\">\n",
       "      <th></th>\n",
       "      <th>STATE</th>\n",
       "      <th>DOMAIN</th>\n",
       "      <th>AGE</th>\n",
       "      <th>HOMEOWNR</th>\n",
       "      <th>NUMCHLD</th>\n",
       "      <th>INCOME</th>\n",
       "      <th>GENDER</th>\n",
       "      <th>WEALTH1</th>\n",
       "      <th>HIT</th>\n",
       "      <th>MBCRAFT</th>\n",
       "      <th>...</th>\n",
       "      <th>PUBHLTH</th>\n",
       "      <th>PUBDOITY</th>\n",
       "      <th>PUBNEWFN</th>\n",
       "      <th>PUBPHOTO</th>\n",
       "      <th>PUBOPP</th>\n",
       "      <th>MAJOR</th>\n",
       "      <th>PEPSTRFL</th>\n",
       "      <th>NUMPRM12</th>\n",
       "      <th>NGIFTALL</th>\n",
       "      <th>TARGET_B</th>\n",
       "    </tr>\n",
       "  </thead>\n",
       "  <tbody>\n",
       "    <tr>\n",
       "      <th>0</th>\n",
       "      <td>AL</td>\n",
       "      <td>T2</td>\n",
       "      <td>NaN</td>\n",
       "      <td>H</td>\n",
       "      <td>NaN</td>\n",
       "      <td>5.0</td>\n",
       "      <td>F</td>\n",
       "      <td>NaN</td>\n",
       "      <td>0.0</td>\n",
       "      <td>NaN</td>\n",
       "      <td>...</td>\n",
       "      <td>NaN</td>\n",
       "      <td>NaN</td>\n",
       "      <td>NaN</td>\n",
       "      <td>NaN</td>\n",
       "      <td>NaN</td>\n",
       "      <td></td>\n",
       "      <td>X</td>\n",
       "      <td>12.0</td>\n",
       "      <td>6.0</td>\n",
       "      <td>0</td>\n",
       "    </tr>\n",
       "    <tr>\n",
       "      <th>1</th>\n",
       "      <td>CA</td>\n",
       "      <td></td>\n",
       "      <td>79.0</td>\n",
       "      <td></td>\n",
       "      <td>NaN</td>\n",
       "      <td>NaN</td>\n",
       "      <td>F</td>\n",
       "      <td>NaN</td>\n",
       "      <td>0.0</td>\n",
       "      <td>NaN</td>\n",
       "      <td>...</td>\n",
       "      <td>NaN</td>\n",
       "      <td>NaN</td>\n",
       "      <td>NaN</td>\n",
       "      <td>NaN</td>\n",
       "      <td>NaN</td>\n",
       "      <td></td>\n",
       "      <td>X</td>\n",
       "      <td>28.0</td>\n",
       "      <td>20.0</td>\n",
       "      <td>0</td>\n",
       "    </tr>\n",
       "    <tr>\n",
       "      <th>2</th>\n",
       "      <td>FL</td>\n",
       "      <td>S1</td>\n",
       "      <td>86.0</td>\n",
       "      <td>H</td>\n",
       "      <td>NaN</td>\n",
       "      <td>7.0</td>\n",
       "      <td>M</td>\n",
       "      <td>9.0</td>\n",
       "      <td>1.0</td>\n",
       "      <td>0.0</td>\n",
       "      <td>...</td>\n",
       "      <td>0.0</td>\n",
       "      <td>0.0</td>\n",
       "      <td>0.0</td>\n",
       "      <td>0.0</td>\n",
       "      <td>0.0</td>\n",
       "      <td></td>\n",
       "      <td>X</td>\n",
       "      <td>14.0</td>\n",
       "      <td>37.0</td>\n",
       "      <td>0</td>\n",
       "    </tr>\n",
       "    <tr>\n",
       "      <th>3</th>\n",
       "      <td>MO</td>\n",
       "      <td>T2</td>\n",
       "      <td>25.0</td>\n",
       "      <td>U</td>\n",
       "      <td>NaN</td>\n",
       "      <td>1.0</td>\n",
       "      <td>M</td>\n",
       "      <td>4.0</td>\n",
       "      <td>0.0</td>\n",
       "      <td>NaN</td>\n",
       "      <td>...</td>\n",
       "      <td>NaN</td>\n",
       "      <td>NaN</td>\n",
       "      <td>NaN</td>\n",
       "      <td>NaN</td>\n",
       "      <td>NaN</td>\n",
       "      <td></td>\n",
       "      <td></td>\n",
       "      <td>7.0</td>\n",
       "      <td>6.0</td>\n",
       "      <td>0</td>\n",
       "    </tr>\n",
       "    <tr>\n",
       "      <th>4</th>\n",
       "      <td>CA</td>\n",
       "      <td>U2</td>\n",
       "      <td>69.0</td>\n",
       "      <td>U</td>\n",
       "      <td>NaN</td>\n",
       "      <td>3.0</td>\n",
       "      <td>F</td>\n",
       "      <td>3.0</td>\n",
       "      <td>5.0</td>\n",
       "      <td>0.0</td>\n",
       "      <td>...</td>\n",
       "      <td>2.0</td>\n",
       "      <td>0.0</td>\n",
       "      <td>0.0</td>\n",
       "      <td>0.0</td>\n",
       "      <td>0.0</td>\n",
       "      <td></td>\n",
       "      <td>X</td>\n",
       "      <td>22.0</td>\n",
       "      <td>11.0</td>\n",
       "      <td>0</td>\n",
       "    </tr>\n",
       "  </tbody>\n",
       "</table>\n",
       "<p>5 rows × 28 columns</p>\n",
       "</div>"
      ],
      "text/plain": [
       "  STATE DOMAIN   AGE HOMEOWNR  NUMCHLD  INCOME GENDER  WEALTH1  HIT  MBCRAFT  \\\n",
       "0    AL     T2   NaN        H      NaN     5.0      F      NaN  0.0      NaN   \n",
       "1    CA         79.0               NaN     NaN      F      NaN  0.0      NaN   \n",
       "2    FL     S1  86.0        H      NaN     7.0      M      9.0  1.0      0.0   \n",
       "3    MO     T2  25.0        U      NaN     1.0      M      4.0  0.0      NaN   \n",
       "4    CA     U2  69.0        U      NaN     3.0      F      3.0  5.0      0.0   \n",
       "\n",
       "     ...     PUBHLTH  PUBDOITY  PUBNEWFN  PUBPHOTO  PUBOPP  MAJOR  PEPSTRFL  \\\n",
       "0    ...         NaN       NaN       NaN       NaN     NaN                X   \n",
       "1    ...         NaN       NaN       NaN       NaN     NaN                X   \n",
       "2    ...         0.0       0.0       0.0       0.0     0.0                X   \n",
       "3    ...         NaN       NaN       NaN       NaN     NaN                    \n",
       "4    ...         2.0       0.0       0.0       0.0     0.0                X   \n",
       "\n",
       "   NUMPRM12  NGIFTALL  TARGET_B  \n",
       "0      12.0       6.0         0  \n",
       "1      28.0      20.0         0  \n",
       "2      14.0      37.0         0  \n",
       "3       7.0       6.0         0  \n",
       "4      22.0      11.0         0  \n",
       "\n",
       "[5 rows x 28 columns]"
      ]
     },
     "execution_count": 2,
     "metadata": {},
     "output_type": "execute_result"
    }
   ],
   "source": [
    "train_df = pd.read_csv( \"data/train_mail.tsv\", sep='\\t' )\n",
    "train_df.head()"
   ]
  },
  {
   "cell_type": "markdown",
   "metadata": {},
   "source": [
    "### Let's get a sense of the missing values\n",
    "\n",
    "**Question:** How many instances (rows) have _at least one_ missing value?\n",
    "\n",
    "**Question:** How are the missing values distributed among the features themselves?\n"
   ]
  },
  {
   "cell_type": "code",
   "execution_count": 3,
   "metadata": {},
   "outputs": [
    {
     "data": {
      "text/plain": [
       "STATE           0\n",
       "DOMAIN          0\n",
       "AGE          4449\n",
       "HOMEOWNR        0\n",
       "NUMCHLD     15834\n",
       "INCOME       4041\n",
       "GENDER          0\n",
       "WEALTH1      8505\n",
       "HIT             0\n",
       "MBCRAFT     10031\n",
       "MBGARDEN    10031\n",
       "MBBOOKS     10031\n",
       "MBCOLECT    10037\n",
       "MAGFAML     10031\n",
       "MAGFEM      10031\n",
       "MAGMALE     10031\n",
       "PUBGARDN    10031\n",
       "PUBCULIN    10031\n",
       "PUBHLTH     10031\n",
       "PUBDOITY    10031\n",
       "PUBNEWFN    10031\n",
       "PUBPHOTO    10031\n",
       "PUBOPP      10031\n",
       "MAJOR           0\n",
       "PEPSTRFL        0\n",
       "NUMPRM12        0\n",
       "NGIFTALL        0\n",
       "TARGET_B        0\n",
       "dtype: int64"
      ]
     },
     "execution_count": 3,
     "metadata": {},
     "output_type": "execute_result"
    }
   ],
   "source": [
    "# The following line will return how many null values (i.e. how man rows) we have for each feature\n",
    "\n",
    "train_df.isnull().sum()"
   ]
  },
  {
   "cell_type": "markdown",
   "metadata": {},
   "source": [
    "### Missing values for each case here"
   ]
  },
  {
   "cell_type": "code",
   "execution_count": 4,
   "metadata": {},
   "outputs": [
    {
     "data": {
      "image/png": "[encoded data removed]",
      "text/plain": [
       "<Figure size 720x576 with 1 Axes>"
      ]
     },
     "metadata": {
      "needs_background": "light"
     },
     "output_type": "display_data"
    }
   ],
   "source": [
    "empty_fractions = 100.0 * (train_df.isnull().sum() / len(train_df))\n",
    "empty_fractions.sort_values(ascending=True).plot(kind=\"barh\", figsize=(10,8))\n",
    "\n",
    "average_overall = empty_fractions.mean()\n",
    "plt.axvline(x=average_overall, color='red')  # Plots a vertical line at x = <value>\n",
    "plt.text(average_overall - 1.5, -2, 'average\\nmissing', rotation=90)  # Set the text for the tick\n",
    "\n",
    "plt.title(\"Fraction of Instances with Missing Values per Feature\")\n",
    "plt.show()"
   ]
  },
  {
   "cell_type": "markdown",
   "metadata": {},
   "source": [
    "### Approach 1: Drop the instances\n",
    "\n",
    "This approach is also commonly known as _listwise deletion_. We **remove** an instance _entirely_ if it contains even a single missing value.\n",
    "\n",
    "Despite some statistical advantages under certain assumptions* (e.g., avoiding bias), listwise deletion reduces the effective sample size of the population, since we are removing entire instances from the population. This may also detract from the predictive power of our models, and their ability to generalize.\n",
    "\n",
    "\n",
    "*Interestinly enough, these assumptions rarely hold in practice."
   ]
  },
  {
   "cell_type": "code",
   "execution_count": 5,
   "metadata": {},
   "outputs": [
    {
     "data": {
      "image/png": "[encoded data removed]",
      "text/plain": [
       "<Figure size 432x360 with 1 Axes>"
      ]
     },
     "metadata": {
      "needs_background": "light"
     },
     "output_type": "display_data"
    }
   ],
   "source": [
    "df_comp = pd.DataFrame( [[len(train_df), len(train_df.dropna(axis=0))]], columns=['Original', 'Full Values'] ) \n",
    "df_comp.plot.bar(width=0.5, figsize=(6,5), title=\"DataFrame Sizes with / without Missing Values\")\n",
    "plt.show()"
   ]
  },
  {
   "cell_type": "markdown",
   "metadata": {},
   "source": [
    "#### What if we only drop the top 5\n",
    "\n",
    "_Note:_ The number 5 is arbitrarily chosen here. \n",
    "\n",
    "See the documentation here: https://pandas.pydata.org/pandas-docs/stable/reference/api/pandas.DataFrame.dropna.html"
   ]
  },
  {
   "cell_type": "code",
   "execution_count": 6,
   "metadata": {},
   "outputs": [],
   "source": [
    "df_copy = train_df.copy()\n",
    "\n",
    "dfSizes = [ len(train_df) ]  # The original dataframe size\n",
    "columnNames = [ 'Original' ]\n",
    "\n",
    "# Iterate over the top-5 features with the most missing values and drop any row that contains them\n",
    "for featName in empty_fractions.sort_values(ascending=False).head().index:\n",
    "\n",
    "    # The subset parameter allows us to check in specific features\n",
    "    df_copy = df_copy.dropna( subset=[featName], axis=0 )\n",
    "\n",
    "    dfSizes.append(len(df_copy))\n",
    "    columnNames.append( '-%d Feats' % (len(dfSizes)-1) )\n",
    "\n",
    "# In the end, append the size of the dataframe where we have dropped everything\n",
    "dfSizes.append( len(train_df.dropna(axis=0)) )\n",
    "columnNames.append( 'Full Values' )"
   ]
  },
  {
   "cell_type": "code",
   "execution_count": 7,
   "metadata": {},
   "outputs": [
    {
     "data": {
      "image/png": "[encoded data removed]",
      "text/plain": [
       "<Figure size 432x360 with 1 Axes>"
      ]
     },
     "metadata": {
      "needs_background": "light"
     },
     "output_type": "display_data"
    }
   ],
   "source": [
    "df_comp = pd.DataFrame( [dfSizes], columns=columnNames ) \n",
    "df_comp.plot.bar(width=0.5, figsize=(6,5), title=\"DataFrame Sizes with / without Missing Values\")\n",
    "plt.show()"
   ]
  },
  {
   "cell_type": "markdown",
   "metadata": {},
   "source": [
    "### Approach 2: Drop the Features\n",
    "\n",
    "From the previous brief analysis, if we drop _all_ rows that have at least one missing value, then we are removing _a lot_ of information! We see, for instance, that the \"NUMCHLD\" feature has plenty of missing values and results in a significant reduction of our dataset.\n",
    "\n",
    "Here's an alternative that preserves more information in this situation. Instead of droping the _rows_ that have an empty value, we can simply drop the column that has the missing data. It will remove a lot less information.\n",
    "\n",
    "We will _still_ lose _some_ information, but not as much as before. Let's see."
   ]
  },
  {
   "cell_type": "code",
   "execution_count": 8,
   "metadata": {},
   "outputs": [],
   "source": [
    "# Drop the feature NUMCHLD\n",
    "no_numchld_df = train_df.drop( ['NUMCHLD'], axis=1 )"
   ]
  },
  {
   "cell_type": "code",
   "execution_count": 9,
   "metadata": {},
   "outputs": [],
   "source": [
    "# Generate a copy to work with\n",
    "df_copy = no_numchld_df.copy()"
   ]
  },
  {
   "cell_type": "code",
   "execution_count": 10,
   "metadata": {},
   "outputs": [
    {
     "data": {
      "image/png": "[encoded data removed]",
      "text/plain": [
       "<Figure size 432x360 with 1 Axes>"
      ]
     },
     "metadata": {
      "needs_background": "light"
     },
     "output_type": "display_data"
    }
   ],
   "source": [
    "# Find the percentage of missing values for each column in the new dataframe (without the NUMCHLD feature)\n",
    "empty_fractions = 100.0 * (df_copy.isnull().sum() / len(df_copy))\n",
    "empty_fractions.sort_values(ascending=True).plot(kind=\"barh\", figsize=(6,5))\n",
    "\n",
    "average_overall = empty_fractions.mean()\n",
    "plt.axvline(x=average_overall, color='red')  # Plots a vertical line at x = <value>\n",
    "plt.text(average_overall - 1.5, -2, 'average\\nmissing', rotation=90)  # Set the text for the tick\n",
    "\n",
    "plt.title(\"Fraction of Instances with Missing Values per Feature\")\n",
    "plt.show()"
   ]
  },
  {
   "cell_type": "code",
   "execution_count": 11,
   "metadata": {},
   "outputs": [],
   "source": [
    "dfSizes = [ len(train_df), len(df_copy) ]\n",
    "columnNames = [ 'Original', 'No NUMCHLD' ]\n",
    "\n",
    "# Iterate over the top-5 features with the most missing values and drop any row that contains them\n",
    "for featName in empty_fractions.sort_values(ascending=False).head().index:\n",
    "\n",
    "    # The subset parameter allows us to check in specific features\n",
    "    df_copy = df_copy.dropna( subset=[featName], axis=0 )\n",
    "\n",
    "    dfSizes.append(len(df_copy))\n",
    "    columnNames.append( '-%d Feats' % (len(dfSizes)-2) )\n",
    "\n",
    "# In the end, append the size of the dataframe where we have dropped everything\n",
    "dfSizes.append( len(df_copy.dropna(axis=0)) )\n",
    "columnNames.append( 'Full Values' )"
   ]
  },
  {
   "cell_type": "code",
   "execution_count": 12,
   "metadata": {},
   "outputs": [
    {
     "data": {
      "image/png": "[encoded data removed]",
      "text/plain": [
       "<Figure size 432x360 with 1 Axes>"
      ]
     },
     "metadata": {
      "needs_background": "light"
     },
     "output_type": "display_data"
    }
   ],
   "source": [
    "df_comp = pd.DataFrame( [dfSizes], columns=columnNames ) \n",
    "df_comp.plot.bar(width=0.5, figsize=(6,5), title=\"DataFrame Sizes with / without Missing Values\")\n",
    "plt.show()"
   ]
  },
  {
   "cell_type": "markdown",
   "metadata": {},
   "source": [
    "Not ideal, but still better than the previous case!\n",
    "\n",
    "Notice that if we now remove the _rows_ that have missing data, we end up with just shy of 7500 instances, much better compared to the ~1200-1300 instances of the previous case."
   ]
  },
  {
   "cell_type": "markdown",
   "metadata": {},
   "source": [
    "We could keep doing the same thing with the other columns, removing one of them at a time."
   ]
  },
  {
   "cell_type": "markdown",
   "metadata": {},
   "source": [
    "#### Let's compare the two models\n",
    "\n",
    "Since our goal is to predict new instances, we would like to know how each approach performs as part of a training procedure.\n",
    "\n",
    "Here's what we will do:\n",
    "\n",
    "1. We will use the _original_ data frame and drop all the instances that have at least one missing value. We will then train a model on the remaining data.\n",
    "\n",
    "1. We will use the data frame where we have first dropped the NUMCHLD feature. Following this step, we will drop all instances that have at least one missing value. We will build our classifier on the remaining data.\n"
   ]
  },
  {
   "cell_type": "markdown",
   "metadata": {},
   "source": [
    "Let's see the first dataframe"
   ]
  },
  {
   "cell_type": "code",
   "execution_count": 13,
   "metadata": {},
   "outputs": [
    {
     "name": "stdout",
     "output_type": "stream",
     "text": [
      "0.5580277618199576\n"
     ]
    }
   ],
   "source": [
    "\n",
    "# Dataframe 1: drop all instances with missing values\n",
    "listwise_delete_df = train_df.dropna()\n",
    "\n",
    "# Get the features of this \n",
    "listDelFeats = listwise_delete_df.drop( ['TARGET_B'], axis=1 )\n",
    "listDelLabels = listwise_delete_df[['TARGET_B' ]]\n",
    "\n",
    "listDelFeats = pd.get_dummies(listDelFeats)\n",
    "\n",
    "logReg = LogisticRegression(C=1, solver='lbfgs')\n",
    "listDelAvgPrec = np.mean(cross_val_score(logReg, listDelFeats, listDelLabels, scoring='roc_auc', cv=10))\n",
    "print(listDelAvgPrec)"
   ]
  },
  {
   "cell_type": "markdown",
   "metadata": {},
   "source": [
    "Let's see the second dataframe"
   ]
  },
  {
   "cell_type": "code",
   "execution_count": 14,
   "metadata": {},
   "outputs": [
    {
     "name": "stdout",
     "output_type": "stream",
     "text": [
      "0.5849937991479333\n"
     ]
    }
   ],
   "source": [
    "\n",
    "# Dataframe 2: drop all instances with missing values\n",
    "no_feat_numchld = train_df.drop( ['NUMCHLD'], axis=1 ).dropna()\n",
    "\n",
    "# Get the features of this \n",
    "noNumChldFeats = no_feat_numchld.drop( ['TARGET_B'], axis=1 )\n",
    "noNumChldLabels = no_feat_numchld[['TARGET_B' ]]\n",
    "\n",
    "noNumChldFeats = pd.get_dummies(noNumChldFeats)\n",
    "\n",
    "logReg = LogisticRegression(C=1, solver='lbfgs')\n",
    "noNumChldAvgPrec = np.mean(cross_val_score(logReg, noNumChldFeats, noNumChldLabels, scoring='roc_auc', cv=10))\n",
    "print(noNumChldAvgPrec)"
   ]
  },
  {
   "cell_type": "markdown",
   "metadata": {},
   "source": [
    "### Approach 3: Impute with a constant value\n",
    "\n",
    "Another popular and very simple approach to address the issue is to impute with a "
   ]
  },
  {
   "cell_type": "code",
   "execution_count": 15,
   "metadata": {},
   "outputs": [
    {
     "name": "stdout",
     "output_type": "stream",
     "text": [
      "0.5877380609399924\n"
     ]
    }
   ],
   "source": [
    "\n",
    "# Dataframe 3: drop all instances with missing values\n",
    "zeroValuedDf = train_df.fillna( 0 )\n",
    "\n",
    "# Get the features of this \n",
    "zeroValuedFeats = zeroValuedDf.drop( ['TARGET_B'], axis=1 )\n",
    "zeroValuedLabels = zeroValuedDf[['TARGET_B' ]]\n",
    "\n",
    "zeroValuedFeats = pd.get_dummies(zeroValuedFeats)\n",
    "\n",
    "logReg = LogisticRegression(C=1, solver='lbfgs')\n",
    "zeroValuedAvgPrec = np.mean(cross_val_score(logReg, zeroValuedFeats, zeroValuedLabels, scoring='roc_auc', cv=10))\n",
    "print(zeroValuedAvgPrec)"
   ]
  },
  {
   "cell_type": "markdown",
   "metadata": {},
   "source": [
    "### Approach 4: Impute with the average value of the dataframe\n",
    "\n",
    "A slightly better approach compared to the previous one is to use a more \"data driven\" value. Instead of arbitrarily imputing missing values with zeros, we can impute missing values with the _average value_ of each column."
   ]
  },
  {
   "cell_type": "code",
   "execution_count": 16,
   "metadata": {},
   "outputs": [],
   "source": [
    "\n",
    "# Your code here for imputation\n",
    "\n",
    "\n",
    "# Remember to evaluate your model!\n"
   ]
  },
  {
   "cell_type": "markdown",
   "metadata": {},
   "source": [
    "### Approach 5: Masking the missing value\n",
    "\n",
    "An even more involved approach is to create a _new feature_ that will tell us if the original value is missing or not (binary feature). We can then impute the missing value with one of the previous approaches."
   ]
  },
  {
   "cell_type": "code",
   "execution_count": 17,
   "metadata": {},
   "outputs": [],
   "source": [
    "\n",
    "# Your code here for imputation\n",
    "\n",
    "\n",
    "# Remember to evaluate your model!\n"
   ]
  },
  {
   "cell_type": "code",
   "execution_count": null,
   "metadata": {},
   "outputs": [],
   "source": []
  }
 ],
 "metadata": {
  "kernelspec": {
   "display_name": "Python 3",
   "language": "python",
   "name": "python3"
  },
  "language_info": {
   "codemirror_mode": {
    "name": "ipython",
    "version": 3
   },
   "file_extension": ".py",
   "mimetype": "text/x-python",
   "name": "python",
   "nbconvert_exporter": "python",
   "pygments_lexer": "ipython3",
   "version": "3.7.1"
  }
 },
 "nbformat": 4,
 "nbformat_minor": 2
}
