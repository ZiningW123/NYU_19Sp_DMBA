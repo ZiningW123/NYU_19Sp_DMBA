{
 "cells": [
  {
   "cell_type": "markdown",
   "metadata": {},
   "source": [
    "\n",
    "### Extra Credit Assignment (5 points)\n",
    "\n",
    "As part of this assignment, there is an attached zip file containing two files: `reviews/reviews_train.tsv` and `reviews/reviews_test.tsv`. Each file contains a number of lines. Each line is separated by a tab value. The first part of the line is a piece of text (a \"review\"). The second part of the line is an integer value, from 1 to 5, corresponding to the star rating that was given alongside the review.\n",
    "\n",
    "* First, you will need to upload these files to your JupyterHub Notebook server. You can upload files by simple drag 'n' drop, or by using the \"Upload\" button.\n",
    "\n",
    "* You will use the `reviews_train.tsv` file to train various classification models (see below). You will then use the trained model(s) on the `reviews_test.tsv` file to test their performance.\n",
    "\n",
    "\n",
    "In particular, you will train your classifiers on the contents of the `reviews_train.tsv` file (text and label), as they are, meaning you will be working with 5 different classes (the different star ratings that show up in the file). You will train **4** different classifiers. \n",
    "\n",
    "Each of those classifiers will be tested on the contents of the `reviews_test.tsv` file. For the evaluation, you will be using CRCs (Cumulative Response Curves). You will have to create **2** CRCs.\n",
    "\n",
    "Each CRC will demonstrate (in the same plot) the performance of each of the 4 classifiers on the `reviews_test.tsv`, when focusing on a _specific star rating_. You get to pick the star ratings to test. For example, if you pick \"rating = 2\", then the CRC will consider as correct classifications on the `reviews_test.tsv` the ratings that are equal to 2, and will consider as misclassification anything else.\n",
    "\n",
    "Which two star ratings to show (one per CRC) is up to you. However, one rating must be below 3 and the other greater than or equal to 3. For example, you can pick to plot the pair (\"Rating = 2\", \"Rating = 5\"). You cannot pick both plots to be < 3 or both of them to be >= 3.\n",
    "\n",
    "\n",
    "You can reuse the same classifiers in the two CRCs.\n",
    "\n",
    "\n",
    "**Note 1:** When training your classifiers, you will have to train them on the dataset with the 5 different classes together. When testing, you will be focusing on a specific rating, one for each CRC that you generate.\n",
    "\n",
    "\n",
    "**Note 2:** As you are dealing with text, you may consider the text representation transformation as a different \"classifier\". That is, you can consider the the `CountVectorizer` with binary feature values and the `CountVectorizer` with actual counts as two different \"classifiers\", even though you use, e.g., `LogisticRegression` for both of them. On the other hand, changing the complexity parameters of a classifier _alone_ is not considered a separate classifier for the purposes of this assignment.\n",
    "\n",
    "\n",
    "Make sure that in your plots you specify which model corresponds to which line. Give a brief description of the results and say which model you would pick.\n",
    "\n",
    "\n",
    "**Deadline:** Friday, April 5, 2019 11:59:59pm. I will create an assignment on Classes, where you can submit your results."
   ]
  },
  {
   "cell_type": "markdown",
   "metadata": {},
   "source": [
    "## Useful note for the data\n",
    "\n",
    "When dealing with text, it is often the case that we must work with Unicode characters. \n",
    "\n",
    "If you encounter the error: \"ValueError: np.nan is an invalid document, expected byte or unicode string.\". You are welcome to ask questions for the EC on the forums.\n",
    "\n",
    "check the following url: https://stackoverflow.com/questions/39303912/tfidfvectorizer-in-scikit-learn-valueerror-np-nan-is-an-invalid-document to help you resolve it."
   ]
  },
  {
   "cell_type": "code",
   "execution_count": null,
   "metadata": {},
   "outputs": [],
   "source": []
  }
 ],
 "metadata": {
  "kernelspec": {
   "display_name": "Python 3",
   "language": "python",
   "name": "python3"
  },
  "language_info": {
   "codemirror_mode": {
    "name": "ipython",
    "version": 3
   },
   "file_extension": ".py",
   "mimetype": "text/x-python",
   "name": "python",
   "nbconvert_exporter": "python",
   "pygments_lexer": "ipython3",
   "version": "3.5.2"
  }
 },
 "nbformat": 4,
 "nbformat_minor": 1
}
