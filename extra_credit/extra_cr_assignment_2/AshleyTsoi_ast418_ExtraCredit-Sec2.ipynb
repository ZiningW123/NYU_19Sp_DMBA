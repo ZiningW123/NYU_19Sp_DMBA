{
 "cells": [
  {
   "cell_type": "markdown",
   "metadata": {},
   "source": [
    "\n",
    "### Extra Credit Assignment (5 points)\n",
    "**Deadline:** Friday, April 5, 2019 11:59:59pm. I will create an assignment on Classes, where you can submit your results.\n",
    "\n",
    "As part of this assignment, there is an attached zip file containing two files: `reviews/reviews_train.tsv` and `reviews/reviews_test.tsv`. Each file contains a number of lines. Each line is separated by a **tab value**. The first part of the line is a piece of text (a \"review\"). The second part of the line is an integer value, from 1 to 5, corresponding to the star rating that was given alongside the review."
   ]
  },
  {
   "cell_type": "code",
   "execution_count": 1,
   "metadata": {},
   "outputs": [],
   "source": [
    "import numpy as np\n",
    "import pandas as pd\n",
    "\n",
    "from sklearn import metrics\n",
    "from sklearn.tree import DecisionTreeClassifier\n",
    "from sklearn.model_selection import cross_val_score\n",
    "from sklearn.model_selection import train_test_split\n",
    "from sklearn.linear_model import LogisticRegression\n",
    "from sklearn.svm import SVC\n",
    "from sklearn import metrics\n",
    "from sklearn.model_selection import train_test_split\n",
    "from sklearn.naive_bayes import BernoulliNB\n",
    "from sklearn.feature_extraction.text import CountVectorizer\n",
    "from sklearn.feature_extraction.text import TfidfVectorizer\n",
    "\n",
    "import matplotlib.pylab as plt\n",
    "%matplotlib inline\n",
    "plt.rcParams['figure.figsize'] = 10, 8"
   ]
  },
  {
   "cell_type": "markdown",
   "metadata": {},
   "source": [
    "* First, you will need to upload these files to your JupyterHub Notebook server. You can upload files by simple drag 'n' drop, or by using the \"Upload\" button.\n",
    "\n",
    "* You will use the `reviews_train.tsv` file to train various classification models (see below). You will then use the trained model(s) on the `reviews_test.tsv` file to test their performance."
   ]
  },
  {
   "cell_type": "code",
   "execution_count": 2,
   "metadata": {},
   "outputs": [],
   "source": [
    "# open file and clean up data\n",
    "with open('reviews_train.tsv', encoding=\"utf8\") as tr:\n",
    "    train_rawdata = [x_tr.strip().split(\"\\t\") for x_tr in tr.readlines()] \n",
    "    train_data_cleaned = []\n",
    "    for data in train_rawdata:\n",
    "        tr_cleaned = {'text': data[0], 'label': int(float(data[1]))}\n",
    "        train_data_cleaned.append(tr_cleaned)\n",
    "        \n",
    "train_data = pd.DataFrame(train_data_cleaned)\n",
    "\n",
    "with open('reviews_test.tsv', encoding=\"utf8\") as te:\n",
    "    test_rawdata = [x_te.strip().split(\"\\t\") for x_te in te.readlines()] \n",
    "    test_data_cleaned = []\n",
    "    for data in test_rawdata:\n",
    "        te_cleaned = {'text': data[0], 'label': int(float(data[1]))}\n",
    "        test_data_cleaned.append(te_cleaned)\n",
    "        \n",
    "test_data = pd.DataFrame(test_data_cleaned)"
   ]
  },
  {
   "cell_type": "code",
   "execution_count": 13,
   "metadata": {},
   "outputs": [
    {
     "name": "stdout",
     "output_type": "stream",
     "text": [
      " ======= TRAIN DATA ======= \n",
      "\n"
     ]
    },
    {
     "data": {
      "text/html": [
       "<div>\n",
       "<style scoped>\n",
       "    .dataframe tbody tr th:only-of-type {\n",
       "        vertical-align: middle;\n",
       "    }\n",
       "\n",
       "    .dataframe tbody tr th {\n",
       "        vertical-align: top;\n",
       "    }\n",
       "\n",
       "    .dataframe thead th {\n",
       "        text-align: right;\n",
       "    }\n",
       "</style>\n",
       "<table border=\"1\" class=\"dataframe\">\n",
       "  <thead>\n",
       "    <tr style=\"text-align: right;\">\n",
       "      <th></th>\n",
       "      <th>label</th>\n",
       "      <th>text</th>\n",
       "    </tr>\n",
       "  </thead>\n",
       "  <tbody>\n",
       "    <tr>\n",
       "      <th>0</th>\n",
       "      <td>4</td>\n",
       "      <td>Proximity to waterfront and downtown Seattle. ...</td>\n",
       "    </tr>\n",
       "    <tr>\n",
       "      <th>1</th>\n",
       "      <td>4</td>\n",
       "      <td>Clean, shopping near by, very pleasant staff, ...</td>\n",
       "    </tr>\n",
       "    <tr>\n",
       "      <th>2</th>\n",
       "      <td>5</td>\n",
       "      <td>Everything about our stay was great. Traveling...</td>\n",
       "    </tr>\n",
       "  </tbody>\n",
       "</table>\n",
       "</div>"
      ],
      "text/plain": [
       "   label                                               text\n",
       "0      4  Proximity to waterfront and downtown Seattle. ...\n",
       "1      4  Clean, shopping near by, very pleasant staff, ...\n",
       "2      5  Everything about our stay was great. Traveling..."
      ]
     },
     "execution_count": 13,
     "metadata": {},
     "output_type": "execute_result"
    }
   ],
   "source": [
    "print(' ======= TRAIN DATA ======= \\n')\n",
    "train_data.head(3)"
   ]
  },
  {
   "cell_type": "code",
   "execution_count": 14,
   "metadata": {},
   "outputs": [
    {
     "name": "stdout",
     "output_type": "stream",
     "text": [
      " \n",
      " ======= TEST DATA ======= \n",
      "\n"
     ]
    },
    {
     "data": {
      "text/html": [
       "<div>\n",
       "<style scoped>\n",
       "    .dataframe tbody tr th:only-of-type {\n",
       "        vertical-align: middle;\n",
       "    }\n",
       "\n",
       "    .dataframe tbody tr th {\n",
       "        vertical-align: top;\n",
       "    }\n",
       "\n",
       "    .dataframe thead th {\n",
       "        text-align: right;\n",
       "    }\n",
       "</style>\n",
       "<table border=\"1\" class=\"dataframe\">\n",
       "  <thead>\n",
       "    <tr style=\"text-align: right;\">\n",
       "      <th></th>\n",
       "      <th>label</th>\n",
       "      <th>text</th>\n",
       "    </tr>\n",
       "  </thead>\n",
       "  <tbody>\n",
       "    <tr>\n",
       "      <th>0</th>\n",
       "      <td>5</td>\n",
       "      <td>This was our first time visiting the city of N...</td>\n",
       "    </tr>\n",
       "    <tr>\n",
       "      <th>1</th>\n",
       "      <td>5</td>\n",
       "      <td>Excellent service, great size rooms and great ...</td>\n",
       "    </tr>\n",
       "    <tr>\n",
       "      <th>2</th>\n",
       "      <td>5</td>\n",
       "      <td>Great new hotel with amazing access to shoppin...</td>\n",
       "    </tr>\n",
       "  </tbody>\n",
       "</table>\n",
       "</div>"
      ],
      "text/plain": [
       "   label                                               text\n",
       "0      5  This was our first time visiting the city of N...\n",
       "1      5  Excellent service, great size rooms and great ...\n",
       "2      5  Great new hotel with amazing access to shoppin..."
      ]
     },
     "execution_count": 14,
     "metadata": {},
     "output_type": "execute_result"
    }
   ],
   "source": [
    "print(' \\n ======= TEST DATA ======= \\n')\n",
    "test_data.head(3)"
   ]
  },
  {
   "cell_type": "code",
   "execution_count": 4,
   "metadata": {},
   "outputs": [],
   "source": [
    "train_x = train_data['text']\n",
    "train_y = train_data['label']\n",
    "test_x = test_data['text']\n",
    "test_y = test_data['label']\n",
    "\n",
    "test_sc2 = test_data.loc[test_data['label'] == 2]\n",
    "test_x2 = test_sc2['text']\n",
    "test_y2 = test_sc2['label']\n",
    "\n",
    "test_sc5 = test_data.loc[test_data['label'] == 5]\n",
    "test_x5 = test_sc5['text']\n",
    "test_y5 = test_sc5['label']"
   ]
  },
  {
   "cell_type": "markdown",
   "metadata": {},
   "source": [
    "In particular, you will train your classifiers on the contents of the `reviews_train.tsv` file (text and label), as they are, meaning you will be working with 5 different classes (the different star ratings that show up in the file). You will train **4 different classifiers**. \n",
    "\n",
    "Each of those classifiers will be tested on the contents of the `reviews_test.tsv` file. For the evaluation, you will be using CRCs (Cumulative Response Curves). You will have to create **2 CRCs**.\n",
    "\n",
    "Each CRC will demonstrate (in the same plot) the performance of each of the 4 classifiers on the `reviews_test.tsv`, when focusing on a _specific star rating_. You get to pick the star ratings to test. For example, if you pick \"rating = 2\", then the CRC will consider as correct classifications on the `reviews_test.tsv` the ratings that are equal to 2, and will consider as misclassification anything else.\n",
    "\n",
    "Which two star ratings to show (one per CRC) is up to you. However, one rating must be below 3 and the other greater than or equal to 3. For example, you can pick to plot the pair (\"Rating = 2\", \"Rating = 5\"). You cannot pick both plots to be < 3 or both of them to be >= 3."
   ]
  },
  {
   "cell_type": "markdown",
   "metadata": {},
   "source": [
    "### Part I -- prepping the data for testing the 4 Classifiers\n",
    "---"
   ]
  },
  {
   "cell_type": "code",
   "execution_count": 5,
   "metadata": {},
   "outputs": [],
   "source": [
    "# transform/vectorize text to a matrix of binary outcomes\n",
    "binary_vectorizer = CountVectorizer(binary=True)\n",
    "binary_vectorizer.fit(train_x)\n",
    "\n",
    "train_x_binary = binary_vectorizer.transform(train_x)\n",
    "test_x_binary = binary_vectorizer.transform(test_x) \n",
    "test_x2_binary = binary_vectorizer.transform(test_x2) \n",
    "test_x5_binary = binary_vectorizer.transform(test_x5) \n",
    "\n",
    "# transform/vectorize text to a matrix of counted occurances\n",
    "count_vectorizer = CountVectorizer()\n",
    "count_vectorizer.fit(train_x)\n",
    "\n",
    "train_x_count = count_vectorizer.transform(train_x)\n",
    "test_x_count = count_vectorizer.transform(test_x)\n",
    "test_x2_count = count_vectorizer.transform(test_x2)\n",
    "test_x5_count = count_vectorizer.transform(test_x5)\n",
    "\n",
    "# Tf-idf Representation\n",
    "tfidf_vectorizer = TfidfVectorizer()\n",
    "tfidf_vectorizer.fit(train_x)\n",
    "\n",
    "train_x_tfidf = tfidf_vectorizer.transform(train_x)\n",
    "test_x_tfidf = tfidf_vectorizer.transform(test_x)\n",
    "test_x2_tfidf = tfidf_vectorizer.transform(test_x2)\n",
    "test_x5_tfidf = tfidf_vectorizer.transform(test_x5)"
   ]
  },
  {
   "cell_type": "markdown",
   "metadata": {},
   "source": [
    "You can reuse the same classifiers in the two CRCs.\n",
    "\n",
    "\n",
    "**Note 1:** When training your classifiers, you will have to train them on the dataset with the 5 different classes together. When testing, you will be focusing on a specific rating, one for each CRC that you generate.\n",
    "\n",
    "\n",
    "**Note 2:** As you are dealing with text, you may consider the text representation transformation as a different \"classifier\". That is, you can consider the the `CountVectorizer` with binary feature values and the `CountVectorizer` with actual counts as two different \"classifiers\", even though you use, e.g., `LogisticRegression` for both of them. On the other hand, changing the complexity parameters of a classifier _alone_ is not considered a separate classifier for the purposes of this assignment."
   ]
  },
  {
   "cell_type": "markdown",
   "metadata": {},
   "source": [
    "### Part II -- learning the models and creating the CRCs\n",
    "---"
   ]
  },
  {
   "cell_type": "code",
   "execution_count": 6,
   "metadata": {},
   "outputs": [],
   "source": [
    "# Here's a method that trains and returns the CRC of a clasifier\n",
    "\n",
    "def train_and_compute_crc( model, train_x , train_y, test_x, test_y ):\n",
    "\n",
    "    # Train the model\n",
    "    model.fit(train_x, train_y)\n",
    "\n",
    "    # Let's get the probabilities. FOCUS ON THE POSITIVE CLASS\n",
    "    probabilities = model.predict_proba(test_x)[:, 1]\n",
    "\n",
    "    # Create a dataframe that we can conveniently manipulate\n",
    "    model_df = pd.DataFrame(list(zip(probabilities, test_y)), columns=[\"PROBABILITY\", \"TRUE_CLASS\"])\n",
    "\n",
    "    # Sort the dataframe rows by the PROBABILITY\n",
    "    model_df_sorted = model_df.sort_values(by=['PROBABILITY'], ascending=False)\n",
    "\n",
    "    # Compute the CUMULATIVE correct responses up until the\n",
    "    return model_df_sorted[\"TRUE_CLASS\"].cumsum()"
   ]
  },
  {
   "cell_type": "markdown",
   "metadata": {},
   "source": [
    "#### Applying the models"
   ]
  },
  {
   "cell_type": "code",
   "execution_count": 7,
   "metadata": {},
   "outputs": [
    {
     "name": "stderr",
     "output_type": "stream",
     "text": [
      "/Users/ashtsoi/anaconda3/lib/python3.7/site-packages/sklearn/linear_model/logistic.py:433: FutureWarning: Default solver will be changed to 'lbfgs' in 0.22. Specify a solver to silence this warning.\n",
      "  FutureWarning)\n",
      "/Users/ashtsoi/anaconda3/lib/python3.7/site-packages/sklearn/linear_model/logistic.py:460: FutureWarning: Default multi_class will be changed to 'auto' in 0.22. Specify the multi_class option to silence this warning.\n",
      "  \"this warning.\", FutureWarning)\n"
     ]
    }
   ],
   "source": [
    "# Decision Tree Model\n",
    "dt_model = DecisionTreeClassifier(criterion='entropy', max_depth=15)\n",
    "dt_crc = train_and_compute_crc( dt_model, train_x_count, train_y, test_x_count, test_y )\n",
    "\n",
    "# binary model\n",
    "binary_model = LogisticRegression()\n",
    "binary_model.fit(train_x_binary, train_y)\n",
    "\n",
    "binary_crc = train_and_compute_crc( binary_model, train_x_binary, train_y, test_x_binary, test_y )\n",
    "\n",
    "#counter model\n",
    "count_model = LogisticRegression()\n",
    "count_model.fit(train_x_count, train_y)\n",
    "\n",
    "count_crc = train_and_compute_crc( count_model, train_x_count, train_y, test_x_count, test_y )\n",
    "\n",
    "#tf-idf model\n",
    "tfidf_model = LogisticRegression()\n",
    "tfidf_model.fit(train_x_tfidf, train_y)\n",
    "\n",
    "tfidf_crc = train_and_compute_crc( tfidf_model, train_x_tfidf, train_y, test_x_tfidf, test_y )"
   ]
  },
  {
   "cell_type": "code",
   "execution_count": 8,
   "metadata": {},
   "outputs": [
    {
     "name": "stderr",
     "output_type": "stream",
     "text": [
      "/Users/ashtsoi/anaconda3/lib/python3.7/site-packages/sklearn/linear_model/logistic.py:433: FutureWarning: Default solver will be changed to 'lbfgs' in 0.22. Specify a solver to silence this warning.\n",
      "  FutureWarning)\n",
      "/Users/ashtsoi/anaconda3/lib/python3.7/site-packages/sklearn/linear_model/logistic.py:460: FutureWarning: Default multi_class will be changed to 'auto' in 0.22. Specify the multi_class option to silence this warning.\n",
      "  \"this warning.\", FutureWarning)\n"
     ]
    }
   ],
   "source": [
    "# for score 2\n",
    "\n",
    "# Decision Tree Model\n",
    "dt2_model = DecisionTreeClassifier(criterion='entropy', max_depth=15)\n",
    "dt2_crc = train_and_compute_crc( dt2_model, train_x_count, train_y, test_x2_count, test_y2 )\n",
    "\n",
    "# binary model\n",
    "binary2_model = LogisticRegression()\n",
    "binary2_model.fit(train_x_binary, train_y)\n",
    "\n",
    "binary2_crc = train_and_compute_crc( binary2_model, train_x_binary, train_y, test_x2_binary, test_y2 )\n",
    "\n",
    "#counter model\n",
    "count2_model = LogisticRegression()\n",
    "count2_model.fit(train_x_count, train_y)\n",
    "\n",
    "count2_crc = train_and_compute_crc( count2_model, train_x_count, train_y, test_x2_count, test_y2 )\n",
    "\n",
    "#tf-idf model\n",
    "tfidf2_model = LogisticRegression()\n",
    "tfidf2_model.fit(train_x_tfidf, train_y)\n",
    "\n",
    "tfidf2_crc = train_and_compute_crc( tfidf2_model, train_x_tfidf, train_y, test_x2_tfidf, test_y2 )"
   ]
  },
  {
   "cell_type": "code",
   "execution_count": 9,
   "metadata": {},
   "outputs": [
    {
     "name": "stderr",
     "output_type": "stream",
     "text": [
      "/Users/ashtsoi/anaconda3/lib/python3.7/site-packages/sklearn/linear_model/logistic.py:433: FutureWarning: Default solver will be changed to 'lbfgs' in 0.22. Specify a solver to silence this warning.\n",
      "  FutureWarning)\n",
      "/Users/ashtsoi/anaconda3/lib/python3.7/site-packages/sklearn/linear_model/logistic.py:460: FutureWarning: Default multi_class will be changed to 'auto' in 0.22. Specify the multi_class option to silence this warning.\n",
      "  \"this warning.\", FutureWarning)\n"
     ]
    }
   ],
   "source": [
    "# for score 5\n",
    "\n",
    "# Decision Tree Model\n",
    "dt5_model = DecisionTreeClassifier(criterion='entropy', max_depth=15)\n",
    "dt5_crc = train_and_compute_crc( dt5_model, train_x_count, train_y, test_x5_count, test_y5 )\n",
    "\n",
    "# binary model\n",
    "binary5_model = LogisticRegression()\n",
    "binary5_model.fit(train_x_binary, train_y)\n",
    "\n",
    "binary5_crc = train_and_compute_crc( binary5_model, train_x_binary, train_y, test_x5_binary, test_y5 )\n",
    "\n",
    "#counter model\n",
    "count5_model = LogisticRegression()\n",
    "count5_model.fit(train_x_count, train_y)\n",
    "\n",
    "count5_crc = train_and_compute_crc( count5_model, train_x_count, train_y, test_x5_count, test_y5 )\n",
    "\n",
    "#tf-idf model\n",
    "tfidf5_model = LogisticRegression()\n",
    "tfidf5_model.fit(train_x_tfidf, train_y)\n",
    "\n",
    "tfidf5_crc = train_and_compute_crc( tfidf5_model, train_x_tfidf, train_y, test_x5_tfidf, test_y5 )"
   ]
  },
  {
   "cell_type": "markdown",
   "metadata": {},
   "source": [
    "### Part III -- Plot of CRC for all four classifiers\n",
    "---\n",
    "Make sure that in your plots you specify which model corresponds to which line. Give a brief description of the results and say which model you would pick."
   ]
  },
  {
   "cell_type": "code",
   "execution_count": 10,
   "metadata": {},
   "outputs": [
    {
     "data": {
      "image/png": "[encoded data removed]",
      "text/plain": [
       "<Figure size 432x288 with 1 Axes>"
      ]
     },
     "metadata": {
      "needs_background": "light"
     },
     "output_type": "display_data"
    }
   ],
   "source": [
    "# Plot the above results in 1 graph\n",
    "plt.plot(range(0, len(dt_crc)), dt_crc, label=\"Decision Tree\")\n",
    "plt.plot(range(0, len(binary_crc)), binary_crc, label=\"Binary\")\n",
    "plt.plot(range(0, len(count_crc)), count_crc, label=\"Counts\")\n",
    "plt.plot(range(0, len(tfidf_crc)), tfidf_crc, label=\"TF-IDF\")\n",
    "plt.plot([0,len(binary_crc)], [0,max(binary_crc)], 'k--', label=\"Benchmark\")\n",
    "plt.xlabel(\"test instance targeted\")\n",
    "plt.ylabel(\"number of positives targeted\")\n",
    "plt.title(\"Cumulative response curve\")\n",
    "plt.legend()\n",
    "plt.show()"
   ]
  },
  {
   "cell_type": "code",
   "execution_count": 11,
   "metadata": {},
   "outputs": [
    {
     "data": {
      "image/png": "[encoded data removed]",
      "text/plain": [
       "<Figure size 432x288 with 1 Axes>"
      ]
     },
     "metadata": {
      "needs_background": "light"
     },
     "output_type": "display_data"
    }
   ],
   "source": [
    "# Plot the above SCORE = 2 results in 1 graph\n",
    "plt.plot(range(0, len(dt2_crc)), dt2_crc, label=\"Decision Tree\")\n",
    "plt.plot(range(0, len(binary2_crc)), binary2_crc, label=\"Binary\")\n",
    "plt.plot(range(0, len(count2_crc)), count2_crc, label=\"Counts\")\n",
    "plt.plot(range(0, len(tfidf2_crc)), tfidf2_crc, label=\"TF-IDF\")\n",
    "plt.plot([0,len(binary2_crc)], [0,max(binary2_crc)], 'k--', label=\"Benchmark\")\n",
    "plt.xlabel(\"test instance targeted\")\n",
    "plt.ylabel(\"number of positives targeted\")\n",
    "plt.title(\"Cumulative response curve\")\n",
    "plt.legend()\n",
    "plt.show()"
   ]
  },
  {
   "cell_type": "code",
   "execution_count": 12,
   "metadata": {},
   "outputs": [
    {
     "data": {
      "image/png": "[encoded data removed]",
      "text/plain": [
       "<Figure size 432x288 with 1 Axes>"
      ]
     },
     "metadata": {
      "needs_background": "light"
     },
     "output_type": "display_data"
    }
   ],
   "source": [
    "# Plot the above SCORE = 5 results in 1 graph\n",
    "plt.plot(range(0, len(dt5_crc)), dt5_crc, label=\"Decision Tree\")\n",
    "plt.plot(range(0, len(binary5_crc)), binary5_crc, label=\"Binary\")\n",
    "plt.plot(range(0, len(count5_crc)), count5_crc, label=\"Counts\")\n",
    "plt.plot(range(0, len(tfidf5_crc)), tfidf5_crc, label=\"TF-IDF\")\n",
    "plt.plot([0,len(binary5_crc)], [0,max(binary5_crc)], 'k--', label=\"Benchmark\")\n",
    "plt.xlabel(\"test instance targeted\")\n",
    "plt.ylabel(\"number of positives targeted\")\n",
    "plt.title(\"Cumulative response curve\")\n",
    "plt.legend()\n",
    "plt.show()"
   ]
  },
  {
   "cell_type": "markdown",
   "metadata": {},
   "source": [
    "### Conclusion\n",
    "\n",
    "I would choose the decision tree model since it shows the highest area under the CRC curve. However, if I separate the data according to their scores (2 and 5 in this case) and test them, the result does not seem to tell us much.  \n",
    "\n",
    "---"
   ]
  },
  {
   "cell_type": "markdown",
   "metadata": {},
   "source": [
    "## Useful note for the data\n",
    "\n",
    "When dealing with text, it is often the case that we must work with Unicode characters. \n",
    "\n",
    "If you encounter the error: \"ValueError: np.nan is an invalid document, expected byte or unicode string.\". You are welcome to ask questions for the EC on the forums.\n",
    "\n",
    "check the following url: https://stackoverflow.com/questions/39303912/tfidfvectorizer-in-scikit-learn-valueerror-np-nan-is-an-invalid-document to help you resolve it."
   ]
  },
  {
   "cell_type": "code",
   "execution_count": null,
   "metadata": {},
   "outputs": [],
   "source": []
  }
 ],
 "metadata": {
  "kernelspec": {
   "display_name": "Python 3",
   "language": "python",
   "name": "python3"
  },
  "language_info": {
   "codemirror_mode": {
    "name": "ipython",
    "version": 3
   },
   "file_extension": ".py",
   "mimetype": "text/x-python",
   "name": "python",
   "nbconvert_exporter": "python",
   "pygments_lexer": "ipython3",
   "version": "3.7.1"
  }
 },
 "nbformat": 4,
 "nbformat_minor": 1
}
